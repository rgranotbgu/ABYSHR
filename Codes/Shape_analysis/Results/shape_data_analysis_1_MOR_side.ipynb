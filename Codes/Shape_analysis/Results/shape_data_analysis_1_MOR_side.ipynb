{
 "cells": [
  {
   "cell_type": "markdown",
   "metadata": {},
   "source": [
    "## Results-proccessing file for the abyssal hill shape analysis ###\n",
    "This file reads the **\"*_hill_shape.track1.txt\"** file, which cotains the results of shape analyis made by the **maxima_to_shape** script. The file plots the results for hills (and their inward & outward flanks) along the track. It also computes the following:\n",
    "    1. Standard errors (SE) for the shape parameters (slope, height, width, area), for each hill and its flanks. \n",
    "    2. Averages for the entire track (for the hills and their two (inward & outward) flanks separately) .\n",
    "    3. Inward-facing percentages for the slope parameter.\n",
    "    \n",
    "Finally, the file writes two output files:\n",
    "    1. A csv file that conatains the track-averages and inward-facing percentages.\n",
    "    2. A txt file that conatains the shape parametres (together with SE) of the hills along the track.\n",
    "    \n",
    "### Important notes - READ BEFORE USING THIS FILE!\n",
    "1) This file is designed for tracks that do not cross the axis of the mid ocean ridge.\n",
    "\n",
    "2) The shape analysis of the cross-sections is done with ** _right_ and _left_ directions, not geographical directions**. It's important to realize which of these directions are inward (facing the axis) and outward (facing opposite from the axis). You can do that with by running **plotter_srt.pl** with lines **46-54** enabled. These lines will plot the directions from which the cross-sections begin (shows a **negative** distance, which means **left**) and end (shows a **positive** distance, which means **right**).\n",
    "\n",
    "3) Following the previous comment, set which of the sides (**left or right**) is the inward facing side, and which is the outward facing side. This is done with the **in_side** variable in cell #7.\n",
    "\n",
    "4) The file is originly designed for tracks that run from **East to West**. If your track runs roughly North-South, check whether it also runs from East to West. **If it isn't** (i.e., runs from **West to East**), it's ok. Just enable the last line in cell #5.\n",
    "\n",
    "5) This file requires the following modules to be installed on your computer:\n",
    "    1. numpy\n",
    "    2. matplotlib\n",
    "    3. bokeh"
   ]
  },
  {
   "cell_type": "code",
   "execution_count": null,
   "metadata": {
    "collapsed": false
   },
   "outputs": [],
   "source": [
    "%matplotlib inline\n",
    "import numpy as np\n",
    "import matplotlib.pylab as plt\n",
    "import matplotlib.ticker as ticker\n",
    "# from mpl_toolkits.axes_grid1 import host_subplot\n",
    "# import mpl_toolkits.axisartist as AA\n",
    "import bokeh.plotting as bk\n",
    "import bokeh.charts as ch\n",
    "\n",
    "bk.output_notebook()"
   ]
  },
  {
   "cell_type": "code",
   "execution_count": null,
   "metadata": {
    "collapsed": true
   },
   "outputs": [],
   "source": [
    "def lonlatdist(p1,p2):\n",
    "    '''Haversine fomula.\n",
    "    Input: 2 arrays/lists. each one is [lon lat]\n",
    "    Output: float [km]'''\n",
    "    R=6371.\n",
    "    p1=np.deg2rad(p1)\n",
    "    p2=np.deg2rad(p2)\n",
    "    a=(np.sin((p1[1]-p2[1])/2))**2+np.cos(p1[1])*np.cos(p2[1])*(np.sin((p1[0]-p2[0])/2))**2\n",
    "    c=2*np.arctan2(np.sqrt(a),np.sqrt(1-a))\n",
    "    d=R*c\n",
    "    return d\n",
    "\n",
    "def autolabel(ax,rects):\n",
    "    '''attach some text labels'''\n",
    "    for rect in rects:\n",
    "        height = rect.get_height()\n",
    "        ax.text(rect.get_x() + rect.get_width()/2., 1.05*height,'%d' % int(height),size=12 ,ha='center', va='bottom')"
   ]
  },
  {
   "cell_type": "code",
   "execution_count": null,
   "metadata": {
    "collapsed": true
   },
   "outputs": [],
   "source": [
    "### Name of the results-file\n",
    "f_name=\"MAR_28N_-43.9_to_-43.6_hill_shape.track1.txt\""
   ]
  },
  {
   "cell_type": "code",
   "execution_count": null,
   "metadata": {
    "collapsed": false
   },
   "outputs": [],
   "source": [
    "### Reading from file:\n",
    "avg=[]\n",
    "stk=[]\n",
    "std=[]\n",
    "distl=[]\n",
    "in_put=open(f_name,\"r\")\n",
    "in_put.next()\n",
    "n_profiles=0 # counter - number of profiles \n",
    "for line in in_put:\n",
    "    l_list=line.split()\n",
    "    if \"avg\" in l_list[0]:\n",
    "        if len(l_list)==15:\n",
    "            l_list=l_list[2:]\n",
    "            l_list.append(line.split()[1])\n",
    "        elif len(l_list)==14:\n",
    "            l_list=l_list[1:]\n",
    "            num_hill_str=line.split()[0]\n",
    "            l_list.append(num_hill_str[num_hill_str.find(\"_\")+1:])\n",
    "        l_list.append(n_profiles)\n",
    "        l_list=np.asarray(l_list,dtype=float)\n",
    "        avg.append(l_list)\n",
    "    elif \"std\" in l_list[0]:\n",
    "        if len(l_list)==15:\n",
    "            l_list=l_list[2:]\n",
    "            l_list.append(line.split()[1])\n",
    "        elif len(l_list)==14:\n",
    "            l_list=l_list[1:]\n",
    "            num_hill_str=line.split()[0]\n",
    "            l_list.append(num_hill_str[num_hill_str.find(\"_\")+1:])\n",
    "        l_list.append(n_profiles)\n",
    "        l_list=np.asarray(l_list,dtype=float)\n",
    "        std.append(l_list)\n",
    "        n_profiles=0\n",
    "    elif l_list[4]!=\"0\":\n",
    "        n_profiles+=1\n",
    "in_put.close()\n",
    "\n",
    "avg.sort\n",
    "std.sort\n",
    "avg=np.asarray(avg)\n",
    "std=np.asarray(std)"
   ]
  },
  {
   "cell_type": "code",
   "execution_count": null,
   "metadata": {
    "collapsed": false
   },
   "outputs": [],
   "source": [
    "### Cell #5\n",
    "\n",
    "### removing the \"bad\" hills:\n",
    "avg_fl=[np.hstack((0.,avg[0]))]\n",
    "std_fl=[np.hstack((0.,std[0]))]\n",
    "dist_t=0.\n",
    "for i in range(1,len(avg)):\n",
    "    dist=lonlatdist(avg[i,0:2],avg[i-1,0:2])\n",
    "    if dist>0.5:\n",
    "        dist_t+=dist\n",
    "        avg_temp=np.hstack((dist_t,avg[i]))\n",
    "        avg_fl.append(avg_temp)\n",
    "        std_temp=np.hstack((dist_t,std[i]))\n",
    "        std_fl.append(std_temp)\n",
    "\n",
    "avg_fl=np.asarray(avg_fl)\n",
    "avg_fl=avg_fl[avg_fl[:,4]!=0]\n",
    "std_fl=np.asarray(std_fl)\n",
    "std_fl=std_fl[std_fl[:,4]!=0]\n",
    "\n",
    "print avg_fl[:,(14,15)] # 14 - hill num; 15 - number of succseful cross-sections\n",
    "\n",
    "# avg_fl=np.flipud(avg_fl) # for reversing the array - if the hills are aranged from W to E"
   ]
  },
  {
   "cell_type": "code",
   "execution_count": null,
   "metadata": {
    "collapsed": false
   },
   "outputs": [],
   "source": [
    "#### Array legend ####\n",
    "# avg_fl[:,4] = left width\n",
    "# avg_fl[:,5] = right width\n",
    "# avg_fl[:,6] = left height\n",
    "# avg_fl[:,7] = right height\n",
    "# avg_fl[:,8] = left minmax slope\n",
    "# avg_fl[:,9] = right minmax slope\n",
    "# avg_fl[:,10] = left max slope\n",
    "# avg_fl[:,11] = right max slope\n",
    "# avg_fl[:,12] = left area\n",
    "# avg_fl[:,13] = right area\n",
    "# avg_fl[:,14] = hill num\n",
    "# avg_fl[:,15] = number of cross-sections"
   ]
  },
  {
   "cell_type": "markdown",
   "metadata": {},
   "source": [
    "#### Set which side (left or right) is inward"
   ]
  },
  {
   "cell_type": "code",
   "execution_count": null,
   "metadata": {
    "collapsed": true
   },
   "outputs": [],
   "source": [
    "### cell #7\n",
    "\n",
    "in_side=0  # determies the side of the track from the MOR. \n",
    "           # 0 - even columns (left side of the hills) are inward;\n",
    "           # 1 - odd columns (right side of the hills) are inward\n",
    "    \n",
    "if in_side==0:\n",
    "    minmax_col_i=8\n",
    "    minmax_col_o=9\n",
    "    hgt_col_i=6\n",
    "    hgt_col_o=7\n",
    "    wdt_col_i=4\n",
    "    wdt_col_o=5\n",
    "    area_col_i=12\n",
    "    area_col_o=13\n",
    "elif in_side==1:\n",
    "    minmax_col_i=9\n",
    "    minmax_col_o=8\n",
    "    hgt_col_i=7\n",
    "    hgt_col_o=6\n",
    "    wdt_col_i=5\n",
    "    wdt_col_o=4\n",
    "    area_col_i=13\n",
    "    area_col_o=12"
   ]
  },
  {
   "cell_type": "markdown",
   "metadata": {},
   "source": [
    "#### Decide which x-axis to plot:"
   ]
  },
  {
   "cell_type": "code",
   "execution_count": null,
   "metadata": {
    "collapsed": false
   },
   "outputs": [],
   "source": [
    "### Cell #7\n",
    "x_col=1 # x-axis for plotting: 0 - distance along track; 1 - longtitude; 2 - latitude\n",
    "x=avg_fl[:,x_col] \n",
    "if x_col==0:\n",
    "    x_ax_lbl=\"Distance along track\"\n",
    "elif x_col==1:\n",
    "    x_ax_lbl=\"Longitude\"\n",
    "else:\n",
    "    x_ax_lbl=\"Latitude\"\n",
    "print \"number of hills = \",len(x)\n",
    "print \"median of cross sections for a hill = \",np.median(avg_fl[:,15]),\"\\n\""
   ]
  },
  {
   "cell_type": "markdown",
   "metadata": {},
   "source": [
    "### Creating arrays for writing the track results to a csv file"
   ]
  },
  {
   "cell_type": "code",
   "execution_count": null,
   "metadata": {
    "collapsed": true
   },
   "outputs": [],
   "source": [
    "out_ar_slp=np.zeros(13) # slope data array to write to csv\n",
    "out_ar_area=np.zeros(13) # area data array to write to csv\n",
    "out_ar_wdt=np.zeros(13) # width data array to write to csv\n",
    "out_ar_hgt=np.zeros(13) # height data array to write to csv\n",
    "out_ar_slp[0]=out_ar_area[0]=out_ar_wdt[0]=out_ar_hgt[0]=len(x)\n",
    "out_ar_slp[1]=out_ar_area[1]=out_ar_wdt[1]=out_ar_hgt[1]=np.median(avg_fl[:,15])"
   ]
  },
  {
   "cell_type": "markdown",
   "metadata": {},
   "source": [
    "##  Slope analysis"
   ]
  },
  {
   "cell_type": "code",
   "execution_count": null,
   "metadata": {
    "collapsed": false
   },
   "outputs": [],
   "source": [
    "minmax_i=avg_fl[:,minmax_col_i]\n",
    "minmax_o=avg_fl[:,minmax_col_o]\n",
    "minmax_t=(minmax_i+minmax_o)/2.\n",
    "\n",
    "err_minmax_i=std_fl[:,minmax_col_i]/(std_fl[:,15]**0.5)\n",
    "err_minmax_o=std_fl[:,minmax_col_o]/(std_fl[:,15]**0.5)\n",
    "minmax_t_err=(std_fl[:,8]+std_fl[:,9])/(std_fl[:,15]**0.5)\n",
    "\n",
    "TOOLS=\"hover,pan,wheel_zoom,zoom_in,zoom_out,box_zoom,reset,save\"\n",
    "\n",
    "### Hills plot\n",
    "p = bk.figure(plot_width=900,plot_height=400,tools=TOOLS)\n",
    "p.title.text = \"Slope of hills\"\n",
    "p.title.align = \"center\"\n",
    "p.title.text_font_size = \"15px\"\n",
    "p.xaxis.axis_label = x_ax_lbl\n",
    "p.yaxis.axis_label = 'Slope [deg]'\n",
    "l_alpha=1\n",
    "hill_color=\"Grey\"\n",
    "hill_l_color=\"Black\"\n",
    "p.segment(x, minmax_t-minmax_t_err, x, minmax_t+minmax_t_err,line_color=hill_l_color,line_width=1,line_alpha=l_alpha)\n",
    "p.rect(x, minmax_t+minmax_t_err, 0.01, 0.01,line_color=hill_l_color,line_alpha=l_alpha)\n",
    "p.rect(x, minmax_t-minmax_t_err, 0.01, 0.01,line_color=hill_l_color,line_alpha=l_alpha)\n",
    "p.scatter(x,minmax_t, size=7,marker=\"square\",fill_color=hill_color,line_color=hill_l_color)\n",
    "bk.show(p)\n",
    "\n",
    "### Flanks plot\n",
    "p = bk.figure(plot_width=900,plot_height=400,tools=TOOLS)\n",
    "p.title.text = \"Slope of flanks\"\n",
    "p.title.align = \"center\"\n",
    "p.title.text_font_size = \"15px\"\n",
    "p.xaxis.axis_label = x_ax_lbl\n",
    "p.yaxis.axis_label = 'Slope [deg]'\n",
    "\n",
    "in_color=\"CornflowerBlue\"\n",
    "in_l_color=\"Navy\"\n",
    "p.segment(x, minmax_i-err_minmax_i, x, minmax_i+err_minmax_i,line_color=in_l_color,line_width=1,line_alpha=l_alpha)\n",
    "p.rect(x, minmax_i+err_minmax_i, 0.01, 0.01,line_color=in_l_color,line_alpha=l_alpha)\n",
    "p.rect(x, minmax_i-err_minmax_i, 0.01, 0.01,line_color=in_l_color,line_alpha=l_alpha)\n",
    "p.scatter(x,minmax_i, size=7,marker=\"square\",fill_color=in_color,line_color=in_l_color,legend=\"Inward\")\n",
    "\n",
    "out_color=\"LightCoral\"\n",
    "out_l_color=\"DarkRed\"\n",
    "p.segment(x, minmax_o-err_minmax_o, x, minmax_o+err_minmax_o,line_color=out_l_color,line_width=1,line_alpha=l_alpha)\n",
    "p.rect(x, minmax_o+err_minmax_o, 0.01, 0.01,line_color=out_l_color,line_alpha=l_alpha)\n",
    "p.rect(x, minmax_o-err_minmax_o, 0.01, 0.01,line_color=out_l_color,line_alpha=l_alpha)\n",
    "p.scatter(x,minmax_o, size=7,marker=\"square\",fill_color=out_color,line_color=out_l_color,legend=\"Outward\")\n",
    "\n",
    "bk.show(p)"
   ]
  },
  {
   "cell_type": "markdown",
   "metadata": {},
   "source": [
    "### Averages for track"
   ]
  },
  {
   "cell_type": "code",
   "execution_count": null,
   "metadata": {
    "collapsed": false
   },
   "outputs": [],
   "source": [
    "slp_avg=np.average(np.hstack((minmax_i,minmax_o)))\n",
    "slp_avg_stder=(sum((std_fl[:,15]-1)*(std_fl[:,8]+std_fl[:,9])**2)\n",
    "               /(sum(std_fl[:,15])-len(std_fl)))**0.5/2/(len(x)**0.5)\n",
    "slp_i=np.average(minmax_i)\n",
    "slp_i_err=(sum((std_fl[:,15]-1)*std_fl[:,minmax_col_i]**2)\n",
    "           /(sum(std_fl[:,15])-len(std_fl)))**0.5/(len(x)**0.5)\n",
    "slp_o=np.average(minmax_o)\n",
    "slp_o_err=(sum((std_fl[:,15]-1)*std_fl[:,minmax_col_o]**2)\n",
    "           /(sum(std_fl[:,15])-len(std_fl)))**0.5/(len(x)**0.5)\n",
    "\n",
    "print \"average Total slope = {:.1f}\".format(slp_avg)\n",
    "print \"average Total slope stder = {:.1f}\".format(slp_avg_stder)\n",
    "print \"average IN slope = {:.1f}\".format(slp_i)\n",
    "print \"average IN slope stder = {:.1f}\".format(slp_i_err)\n",
    "print \"average OUT slope = {:.1f}\".format(slp_o)\n",
    "print \"average OUT slope stder = {:.1f}\".format(slp_o_err)\n",
    "\n",
    "out_ar_slp[2]=slp_avg\n",
    "out_ar_slp[3]=slp_avg_stder\n",
    "out_ar_slp[4]=slp_i\n",
    "out_ar_slp[5]=slp_i_err\n",
    "out_ar_slp[6]=slp_o\n",
    "out_ar_slp[7]=slp_o_err"
   ]
  },
  {
   "cell_type": "markdown",
   "metadata": {},
   "source": [
    "### Inward percents:"
   ]
  },
  {
   "cell_type": "code",
   "execution_count": null,
   "metadata": {
    "collapsed": false
   },
   "outputs": [],
   "source": [
    "### calculating inwards, outwards & symmetricalls:\n",
    "inward=outward=equale=0 # counters\n",
    "\n",
    "\n",
    "### east\"\n",
    "for i in range(len(minmax_i)):\n",
    "    if minmax_i[i]>minmax_o[i]:\n",
    "        if minmax_i[i]-1.96*err_minmax_i[i] <= minmax_o[i]+1.96*err_minmax_o[i]:\n",
    "            equale+=1\n",
    "        else: \n",
    "            inward+=1\n",
    "    elif minmax_o[i]>minmax_i[i]:\n",
    "        if minmax_o[i]-1.96*err_minmax_o[i] < minmax_i[i]+1.96*err_minmax_i[i]:\n",
    "            equale+=1\n",
    "        else: \n",
    "            outward+=1\n",
    "    else:\n",
    "        equale+=1\n",
    "\n",
    "inward = float(inward)\n",
    "outward = float(outward)\n",
    "equale= float(equale)\n",
    "\n",
    "print \"\\nInward percentage = {:.1f}\".format(inward/(inward+outward)*100)\n",
    "print \"None-symmetrical percentage = {:.1f}\".format((inward+outward)/(inward+outward+equale)*100)\n",
    "\n",
    "### writing to output array:\n",
    "out_ar_slp[8]=inward\n",
    "out_ar_slp[9]=outward\n",
    "out_ar_slp[10]=equale\n",
    "out_ar_slp[11]=inward/(inward+outward)*100\n",
    "out_ar_slp[12]=(inward+outward)/(inward+outward+equale)*100\n",
    "\n",
    "######## plotting ##########\n",
    "n_groups = 1\n",
    "fig, ax = plt.subplots()\n",
    "fig.set_size_inches(5,7)\n",
    "index = np.arange(n_groups)\n",
    "bar_width = 0.2\n",
    "\n",
    "#  #ff5555 - red\n",
    "#  #37c959 - green\n",
    "opacity = 0.7\n",
    "rects1 = plt.bar(index, inward, bar_width, alpha=opacity,color='#58b1fa',label='Steeper Inward')\n",
    "rects2 = plt.bar(index + bar_width, outward, bar_width,alpha=opacity,color='#ff7111',label='Steeper Outward')\n",
    "rects3 = plt.bar(index + bar_width*2, equale, bar_width,alpha=opacity,color='gray',label='Symmetrical')\n",
    "plt.ylabel('Number Of Hills',size=14)\n",
    "plt.xticks((index+bar_width/2.,index + bar_width*1.5,index + bar_width*2.5), \n",
    "           ('Steeper\\nInward','Steeper\\nOutward',\"Symmetrical\"),size=14)\n",
    "plt.ylim(0,max(inward,outward,equale)+2)\n",
    "\n",
    "\n",
    "autolabel(plt,rects1)\n",
    "autolabel(plt,rects2)\n",
    "autolabel(plt,rects3)\n",
    "\n",
    "\n",
    "plt.tight_layout()\n",
    "plt.show()"
   ]
  },
  {
   "cell_type": "markdown",
   "metadata": {},
   "source": [
    "___\n",
    "# Area"
   ]
  },
  {
   "cell_type": "code",
   "execution_count": null,
   "metadata": {
    "collapsed": false
   },
   "outputs": [],
   "source": [
    "area_i=avg_fl[:,area_col_i]\n",
    "area_o=avg_fl[:,area_col_o]\n",
    "area_t=area_i+area_o\n",
    "\n",
    "\n",
    "err_area_i=std_fl[:,area_col_i]/(std_fl[:,15]**0.5)\n",
    "err_area_o=std_fl[:,area_col_o]/(std_fl[:,15]**0.5)\n",
    "area_err_t=(std_fl[:,12]+std_fl[:,13])/(std_fl[:,15]**0.5)\n",
    "\n",
    "TOOLS=\"hover,pan,wheel_zoom,zoom_in,zoom_out,box_zoom,reset,save\"\n",
    "### Hills plot\n",
    "p = bk.figure(plot_width=900,plot_height=400,tools=TOOLS)\n",
    "p.title.text = \"Area of hills\"\n",
    "p.title.align = \"center\"\n",
    "p.title.text_font_size = \"15px\"\n",
    "p.xaxis.axis_label = x_ax_lbl\n",
    "p.yaxis.axis_label = 'Area [km^2]'\n",
    "l_alpha=1\n",
    "hill_color=\"Grey\"\n",
    "hill_l_color=\"Black\"\n",
    "p.segment(x, area_t-area_err_t, x, area_t+area_err_t,line_color=hill_l_color,line_width=1,line_alpha=l_alpha)\n",
    "p.rect(x, area_t+area_err_t, 0.01, 0.01,line_color=hill_l_color,line_alpha=l_alpha)\n",
    "p.rect(x, area_t-area_err_t, 0.01, 0.01,line_color=hill_l_color,line_alpha=l_alpha)\n",
    "p.scatter(x,area_t, size=7,marker=\"square\",fill_color=hill_color,line_color=hill_l_color)\n",
    "bk.show(p)\n",
    "\n",
    "### Flanks plot\n",
    "p = bk.figure(plot_width=900,plot_height=400,tools=TOOLS)\n",
    "p.title.text = \"Area of flanks\"\n",
    "p.title.align = \"center\"\n",
    "p.title.text_font_size = \"15px\"\n",
    "p.xaxis.axis_label = x_ax_lbl\n",
    "p.yaxis.axis_label = 'Area [km^2]'\n",
    "\n",
    "in_color=\"CornflowerBlue\"\n",
    "in_l_color=\"Navy\"\n",
    "p.segment(x, area_i-err_area_i, x, area_i+err_area_i,line_color=in_l_color,line_width=1,line_alpha=l_alpha)\n",
    "p.rect(x, area_i+err_area_i, 0.02, 0.0001,line_color=in_l_color,line_alpha=l_alpha)\n",
    "p.rect(x, area_i-err_area_i, 0.02, 0.0001,line_color=in_l_color,line_alpha=l_alpha)\n",
    "p.scatter(x,area_i, size=7,marker=\"square\",fill_color=in_color,line_color=in_l_color,legend=\"Inward\")\n",
    "\n",
    "out_color=\"LightCoral\"\n",
    "out_l_color=\"DarkRed\"\n",
    "p.segment(x, area_o-err_area_o, x, area_o+err_area_o,line_color=out_l_color,line_width=1,line_alpha=l_alpha)\n",
    "p.rect(x, area_o+err_area_o, 0.02, 0.0001,line_color=out_l_color,line_alpha=l_alpha)\n",
    "p.rect(x, area_o-err_area_o, 0.02, 0.0001,line_color=out_l_color,line_alpha=l_alpha)\n",
    "p.scatter(x,area_o, size=7,marker=\"square\",fill_color=out_color,line_color=out_l_color,legend=\"Outward\")\n",
    "\n",
    "bk.show(p)"
   ]
  },
  {
   "cell_type": "markdown",
   "metadata": {},
   "source": [
    "### Averages for track"
   ]
  },
  {
   "cell_type": "code",
   "execution_count": null,
   "metadata": {
    "collapsed": false
   },
   "outputs": [],
   "source": [
    "area_t_avg=np.average(area_t)\n",
    "area_t_avg_stder=(sum((std_fl[:,15]-1)*(std_fl[:,12]+std_fl[:,13])**2)\n",
    "                  /(sum(std_fl[:,15])-len(std_fl)))**0.5/(len(x)**0.5)\n",
    "area_i_avg=np.average(area_i)\n",
    "area_i_avg_err=(sum((std_fl[:,15]-1)*std_fl[:,area_col_i]**2)\n",
    "           /(sum(std_fl[:,15])-len(std_fl)))**0.5/(len(x)**0.5)\n",
    "area_o_avg=np.average(area_o)\n",
    "area_o_avg_err=(sum((std_fl[:,15]-1)*std_fl[:,area_col_o]**2)\n",
    "           /(sum(std_fl[:,15])-len(std_fl)))**0.5/(len(x)**0.5)\n",
    "\n",
    "print \"average Total area = {:.4f}\".format(area_t_avg)\n",
    "print \"average Total area stder = {:.4f}\".format(area_t_avg_stder)\n",
    "print \"average IN area = {:.4f}\".format(area_i_avg)\n",
    "print \"average IN area stder = {:.4f}\".format(area_i_avg_err)\n",
    "print \"average OUT area = {:.4f}\".format(area_o_avg)\n",
    "print \"average OUT area stder = {:.4f}\".format(area_o_avg_err)\n",
    "\n",
    "out_ar_area[2]=area_t_avg\n",
    "out_ar_area[3]=area_t_avg_stder\n",
    "out_ar_area[4]=area_i_avg\n",
    "out_ar_area[5]=area_i_avg_err\n",
    "out_ar_area[6]=area_o_avg\n",
    "out_ar_area[7]=area_o_avg_err"
   ]
  },
  {
   "cell_type": "markdown",
   "metadata": {},
   "source": [
    "___\n",
    "## Width"
   ]
  },
  {
   "cell_type": "code",
   "execution_count": null,
   "metadata": {
    "collapsed": false
   },
   "outputs": [],
   "source": [
    "wdt_i=avg_fl[:,wdt_col_i]\n",
    "wdt_o=avg_fl[:,wdt_col_o]\n",
    "wdt_t=wdt_i+wdt_o\n",
    "\n",
    "wdt_err_i=std_fl[:,wdt_col_i]/(std_fl[:,15]**0.5)\n",
    "wdt_err_o=avg_fl[:,wdt_col_o]/(std_fl[:,15]**0.5)\n",
    "wdt_err_t=(std_fl[:,4]+std_fl[:,5])/(std_fl[:,15]**0.5)\n",
    "\n",
    "TOOLS=\"hover,pan,wheel_zoom,zoom_in,zoom_out,box_zoom,reset,save\"\n",
    "### Hills plot\n",
    "p = bk.figure(plot_width=900,plot_height=400,tools=TOOLS)\n",
    "p.title.text = \"Width of hills\"\n",
    "p.title.align = \"center\"\n",
    "p.title.text_font_size = \"15px\"\n",
    "p.xaxis.axis_label = x_ax_lbl\n",
    "p.yaxis.axis_label = 'Width [m]'\n",
    "l_alpha=1\n",
    "hill_color=\"Grey\"\n",
    "hill_l_color=\"Black\"\n",
    "p.segment(x, wdt_t-wdt_err_t, x, wdt_t+wdt_err_t,line_color=hill_l_color,line_width=1,line_alpha=l_alpha)\n",
    "p.rect(x, wdt_t+wdt_err_t, 0.01, 0.01,line_color=hill_l_color,line_alpha=l_alpha)\n",
    "p.rect(x, wdt_t-wdt_err_t, 0.01, 0.01,line_color=hill_l_color,line_alpha=l_alpha)\n",
    "p.scatter(x,wdt_t, size=7,marker=\"square\",fill_color=hill_color,line_color=hill_l_color)\n",
    "bk.show(p)\n",
    "\n",
    "### Flanks plot\n",
    "p = bk.figure(plot_width=900,plot_height=400,tools=TOOLS)\n",
    "p.title.text = \"Width of flanks\"\n",
    "p.title.align = \"center\"\n",
    "p.title.text_font_size = \"15px\"\n",
    "p.xaxis.axis_label = x_ax_lbl\n",
    "p.yaxis.axis_label = 'Width [m]'\n",
    "\n",
    "in_color=\"CornflowerBlue\"\n",
    "in_l_color=\"Navy\"\n",
    "p.segment(x, wdt_i-wdt_err_i, x, wdt_i+wdt_err_i,line_color=in_l_color,line_width=1,line_alpha=l_alpha)\n",
    "p.rect(x, wdt_i+wdt_err_i, 0.02, 0.01,line_color=in_l_color,line_alpha=l_alpha)\n",
    "p.rect(x, wdt_i-wdt_err_i, 0.02, 0.01,line_color=in_l_color,line_alpha=l_alpha)\n",
    "p.scatter(x,wdt_i, size=7,marker=\"square\",fill_color=in_color,line_color=in_l_color,legend=\"Inward\")\n",
    "\n",
    "out_color=\"LightCoral\"\n",
    "out_l_color=\"DarkRed\"\n",
    "p.segment(x, wdt_o-wdt_err_o, x, wdt_o+wdt_err_o,line_color=out_l_color,line_width=1,line_alpha=l_alpha)\n",
    "p.rect(x, wdt_o+wdt_err_o, 0.02, 0.01,line_color=out_l_color,line_alpha=l_alpha)\n",
    "p.rect(x, wdt_o-wdt_err_o, 0.02, 0.01,line_color=out_l_color,line_alpha=l_alpha)\n",
    "p.scatter(x,wdt_o, size=7,marker=\"square\",fill_color=out_color,line_color=out_l_color,legend=\"Outward\")\n",
    "\n",
    "bk.show(p)"
   ]
  },
  {
   "cell_type": "markdown",
   "metadata": {},
   "source": [
    "### Averages for track"
   ]
  },
  {
   "cell_type": "code",
   "execution_count": null,
   "metadata": {
    "collapsed": false
   },
   "outputs": [],
   "source": [
    "##### flow line averages:\n",
    "wdt_t_avg=np.average(wdt_t)\n",
    "wdt_t_avg_stder=(sum((std_fl[:,15]-1)*(std_fl[:,4]+std_fl[:,5])**2)\n",
    "                 /(sum(std_fl[:,15])-len(std_fl)))**0.5/(len(x)**0.5)\n",
    "wdt_i_avg=np.average(wdt_i)\n",
    "wdt_i_stder=(sum((std_fl[:,15]-1)*std_fl[:,wdt_col_i]**2)\n",
    "           /(sum(std_fl[:,15])-len(std_fl)))**0.5/(len(x)**0.5)\n",
    "wdt_o_avg=np.average(wdt_o)\n",
    "wdt_o_stder=(sum((std_fl[:,15]-1)*std_fl[:,wdt_col_o]**2)\n",
    "           /(sum(std_fl[:,15])-len(std_fl)))**0.5/(len(x)**0.5)\n",
    "\n",
    "print \"average total width = {:.0f}\".format(wdt_t_avg)\n",
    "print \"average total width stder = {:.0f}\".format(wdt_t_avg_stder)\n",
    "print \"average IN width = {:.0f}\".format(wdt_i_avg)\n",
    "print \"average IN width stder = {:.0f}\".format(wdt_i_stder)\n",
    "print \"average OUT width = {:.0f}\".format(wdt_o_avg)\n",
    "print \"average OUT width stder = {:.0f}\".format(wdt_o_stder)\n",
    "\n",
    "out_ar_wdt[2]=wdt_t_avg\n",
    "out_ar_wdt[3]=wdt_t_avg_stder\n",
    "out_ar_wdt[4]=wdt_i_avg\n",
    "out_ar_wdt[5]=wdt_i_stder\n",
    "out_ar_wdt[6]=wdt_o_avg\n",
    "out_ar_wdt[7]=wdt_o_stder"
   ]
  },
  {
   "cell_type": "markdown",
   "metadata": {
    "collapsed": false
   },
   "source": [
    "___\n",
    "## Height"
   ]
  },
  {
   "cell_type": "code",
   "execution_count": null,
   "metadata": {
    "collapsed": false
   },
   "outputs": [],
   "source": [
    "hgt_i=avg_fl[:,hgt_col_i]\n",
    "hgt_o=avg_fl[:,hgt_col_o]\n",
    "hgt_t=(hgt_i+hgt_o)/2\n",
    "\n",
    "hgt_err_i=std_fl[:,hgt_col_i]/(std_fl[:,15]**0.5)\n",
    "hgt_err_o=std_fl[:,hgt_col_o]/(std_fl[:,15]**0.5)\n",
    "hgt_err_t=(std_fl[:,6]+std_fl[:,7])/(std_fl[:,15]**0.5)\n",
    "\n",
    "TOOLS=\"hover,pan,wheel_zoom,zoom_in,zoom_out,box_zoom,reset,save\"\n",
    "### Hills plot\n",
    "p = bk.figure(plot_width=900,plot_height=400,tools=TOOLS)\n",
    "p.title.text = \"Height of hills\"\n",
    "p.title.align = \"center\"\n",
    "p.title.text_font_size = \"15px\"\n",
    "p.xaxis.axis_label = x_ax_lbl\n",
    "p.yaxis.axis_label = 'Height [m]'\n",
    "l_alpha=1\n",
    "hill_color=\"Grey\"\n",
    "hill_l_color=\"Black\"\n",
    "p.segment(x, hgt_t-hgt_err_t, x, hgt_t+hgt_err_t,line_color=hill_l_color,line_width=1,line_alpha=l_alpha)\n",
    "p.rect(x, hgt_t+hgt_err_t, 0.01, 0.01,line_color=hill_l_color,line_alpha=l_alpha)\n",
    "p.rect(x, hgt_t-hgt_err_t, 0.01, 0.01,line_color=hill_l_color,line_alpha=l_alpha)\n",
    "p.scatter(x,hgt_t, size=7,marker=\"square\",fill_color=hill_color,line_color=hill_l_color)\n",
    "bk.show(p)\n",
    "\n",
    "### Flanks plot\n",
    "p = bk.figure(plot_width=900,plot_height=400,tools=TOOLS)\n",
    "p.title.text = \"Height of flanks\"\n",
    "p.title.align = \"center\"\n",
    "p.title.text_font_size = \"15px\"\n",
    "p.xaxis.axis_label = x_ax_lbl\n",
    "p.yaxis.axis_label = 'Height [m]'\n",
    "\n",
    "in_color=\"CornflowerBlue\"\n",
    "in_l_color=\"Navy\"\n",
    "p.segment(x, hgt_i-hgt_err_i, x, hgt_i+hgt_err_i,line_color=in_l_color,line_width=1,line_alpha=l_alpha)\n",
    "p.rect(x, hgt_i+hgt_err_i, 0.02, 0.01,line_color=in_l_color,line_alpha=l_alpha)\n",
    "p.rect(x, hgt_i-hgt_err_i, 0.02, 0.01,line_color=in_l_color,line_alpha=l_alpha)\n",
    "p.scatter(x,hgt_i, size=7,marker=\"square\",fill_color=in_color,line_color=in_l_color,legend=\"Inward\")\n",
    "\n",
    "out_color=\"LightCoral\"\n",
    "out_l_color=\"DarkRed\"\n",
    "p.segment(x, hgt_o-hgt_err_o, x, hgt_o+hgt_err_o,line_color=out_l_color,line_width=1,line_alpha=l_alpha)\n",
    "p.rect(x, hgt_o+hgt_err_o, 0.02, 0.01,line_color=out_l_color,line_alpha=l_alpha)\n",
    "p.rect(x, hgt_o-hgt_err_o, 0.02, 0.01,line_color=out_l_color,line_alpha=l_alpha)\n",
    "p.scatter(x,hgt_o, size=7,marker=\"square\",fill_color=out_color,line_color=out_l_color,legend=\"Outward\")\n",
    "\n",
    "bk.show(p)"
   ]
  },
  {
   "cell_type": "markdown",
   "metadata": {},
   "source": [
    "### Averages for track"
   ]
  },
  {
   "cell_type": "code",
   "execution_count": null,
   "metadata": {
    "collapsed": false
   },
   "outputs": [],
   "source": [
    "hgt_avg=np.average(hgt_t)\n",
    "hgt_avg_stder=(sum((std_fl[:,15]-1)*(std_fl[:,6]+std_fl[:,7])**2)\n",
    "               /(sum(std_fl[:,15])-len(std_fl)))**0.5/2/(len(x)**0.5)\n",
    "hgt_i_avg=np.average(hgt_i)\n",
    "hgt_i_stder=(sum((std_fl[:,15]-1)*std_fl[:,hgt_col_i]**2)\n",
    "           /(sum(std_fl[:,15])-len(std_fl)))**0.5/(len(x)**0.5)\n",
    "hgt_o_avg=np.average(hgt_o)\n",
    "hgt_o_stder=(sum((std_fl[:,15]-1)*std_fl[:,hgt_col_o]**2)\n",
    "           /(sum(std_fl[:,15])-len(std_fl)))**0.5/(len(x)**0.5)\n",
    "\n",
    "##### flow line averages:\n",
    "print \"average height = {:.0f}\".format(hgt_avg)\n",
    "print \"average height stder = {:.0f}\".format(hgt_avg_stder)\n",
    "print \"average IN height = {:.0f}\".format(hgt_i_avg)\n",
    "print \"average IN height stder = {:.0f}\".format(hgt_i_stder)\n",
    "print \"average OUT height = {:.0f}\".format(hgt_o_avg)\n",
    "print \"average OUT height stder = {:.0f}\".format(hgt_o_stder)\n",
    "\n",
    "out_ar_hgt[2]=hgt_avg\n",
    "out_ar_hgt[3]=hgt_avg_stder\n",
    "out_ar_hgt[4]=hgt_i_avg\n",
    "out_ar_hgt[5]=hgt_i_stder\n",
    "out_ar_hgt[6]=hgt_o_avg\n",
    "out_ar_hgt[7]=hgt_o_stder"
   ]
  },
  {
   "cell_type": "markdown",
   "metadata": {},
   "source": [
    "## Writing track-averages to csv file"
   ]
  },
  {
   "cell_type": "code",
   "execution_count": null,
   "metadata": {
    "collapsed": false
   },
   "outputs": [],
   "source": [
    "out_ar_all=np.vstack((out_ar_slp.reshape(1,len(out_ar_slp)),out_ar_area.reshape(1,len(out_ar_area)),\n",
    "                      out_ar_wdt.reshape(1,len(out_ar_wdt)),out_ar_hgt.reshape(1,len(out_ar_hgt)))) \n",
    "np.savetxt(\"results_temp.csv\",out_ar_all,delimiter=\",\",\n",
    "           header=\"line 3=slope; line 4=area; line 5=width; line 6=height \\n no. of hills,median no. of cross section, hill avg, hill avg SE, in flank avg, in flank SE, out flank, out flank SE, no. of inward facing hills, no. of outward facing hills, no. of symetrical hills, percent of inward facing hills, percent of asymmetrical hills\")\n",
    "print \"done\""
   ]
  },
  {
   "cell_type": "markdown",
   "metadata": {
    "collapsed": true
   },
   "source": [
    "## Writing shape data for each hill to a text file"
   ]
  },
  {
   "cell_type": "markdown",
   "metadata": {},
   "source": [
    "#### Array of distances of hills from the mid-ocean ridge (mor)"
   ]
  },
  {
   "cell_type": "code",
   "execution_count": null,
   "metadata": {
    "collapsed": false
   },
   "outputs": [],
   "source": [
    "dist2mor=[]\n",
    "mor_xy=[-43.83,28.24] # lon,lat\n",
    "for i in range(len(avg_fl)):\n",
    "    dist2mor.append(lonlatdist(mor_xy,avg_fl[i,1:3]))\n",
    "dist2mor=np.array(dist2mor)"
   ]
  },
  {
   "cell_type": "markdown",
   "metadata": {},
   "source": [
    "#### Writing to file"
   ]
  },
  {
   "cell_type": "code",
   "execution_count": null,
   "metadata": {
    "collapsed": false
   },
   "outputs": [],
   "source": [
    "s_rate=23. #full spreading rate\n",
    "out_f_flowline=f_name[:f_name.find(\"_hill\")]+\"_shapes_flowline.txt\"\n",
    "flowline_ar=np.hstack((dist2mor.reshape(len(hgt_t),1),dist2mor.reshape(len(hgt_t),1)/(s_rate/2.),\n",
    "                       minmax_t.reshape(len(hgt_t),1),minmax_t_err.reshape(len(hgt_t),1),\n",
    "                       hgt_t.reshape(len(hgt_t),1),hgt_err_t.reshape(len(hgt_t),1),\n",
    "                       wdt_t.reshape(len(hgt_t),1),wdt_err_t.reshape(len(hgt_t),1),\n",
    "                       area_t.reshape(len(hgt_t),1),area_err_t.reshape(len(hgt_t),1)))\n",
    "np.savetxt(out_f_flowline,flowline_ar,fmt=\"%.4f\",\n",
    "           header=\n",
    "           \"distance age slope slope-SE height height-SE width width-SE area area-SE\")"
   ]
  },
  {
   "cell_type": "code",
   "execution_count": null,
   "metadata": {
    "collapsed": true
   },
   "outputs": [],
   "source": []
  }
 ],
 "metadata": {
  "kernelspec": {
   "display_name": "Python 2",
   "language": "python",
   "name": "python2"
  },
  "language_info": {
   "codemirror_mode": {
    "name": "ipython",
    "version": 2
   },
   "file_extension": ".py",
   "mimetype": "text/x-python",
   "name": "python",
   "nbconvert_exporter": "python",
   "pygments_lexer": "ipython2",
   "version": "2.7.9"
  }
 },
 "nbformat": 4,
 "nbformat_minor": 0
}
